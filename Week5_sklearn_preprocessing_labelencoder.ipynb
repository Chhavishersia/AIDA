{
  "nbformat": 4,
  "nbformat_minor": 0,
  "metadata": {
    "colab": {
      "provenance": []
    },
    "kernelspec": {
      "name": "python3",
      "display_name": "Python 3"
    },
    "language_info": {
      "name": "python"
    }
  },
  "cells": [
    {
      "cell_type": "markdown",
      "source": [
        "The approach to the given homework:</br>\n",
        "1. We were taught in week08's class to standardize the data. I am using professor's code to transform the given data. \n",
        "2. Using the sklearn library and its inbuilt function \"Kmeans\" to find the optimum numbers of clusters. \n",
        "3. Using the WCSS (Elbow plot). We have to ake a balance between variation among clusters and the data points among each cluster. Elbow method gives us the optimal number of kmeans clusters. \n",
        "4. We apply Kmeans on the dataset. We start with selecting  the number K to decide the number of clusters for the given dataset. The algorithm selcts random K points (centroids) which may or maynot be input data points. The Kmeans algorithm runs loop and in each loop it calculates the variance and places a new centroid of each cluster.\n",
        "5. We make the list of the number of the centroids obtained at the end of the loop.  \n",
        "6. Predict the target and compare the results. "
      ],
      "metadata": {
        "id": "Q_JQv2Byn1hW"
      }
    },
    {
      "cell_type": "code",
      "execution_count": null,
      "metadata": {
        "id": "eegemxzLiWAb"
      },
      "outputs": [],
      "source": [
        "import numpy as np\n",
        "import matplotlib.pyplot as plt\n",
        "import pandas as pd\n",
        "from sklearn.tree import DecisionTreeClassifier\n",
        "from sklearn.model_selection import train_test_split\n",
        "from sklearn import metrics\n",
        "from sklearn.cluster import KMeans"
      ]
    },
    {
      "cell_type": "code",
      "source": [
        "dataset  = pd.read_csv(\"Churn_Modelling.csv\")\n",
        "dataset.head()"
      ],
      "metadata": {
        "colab": {
          "base_uri": "https://localhost:8080/",
          "height": 270
        },
        "id": "PDOeI70kiv7L",
        "outputId": "66f7c496-96b6-41ac-b8e0-23c00095ca75"
      },
      "execution_count": null,
      "outputs": [
        {
          "output_type": "execute_result",
          "data": {
            "text/plain": [
              "   RowNumber  CustomerId   Surname  CreditScore Geography  Gender  Age  \\\n",
              "0          1    15634602  Hargrave          619    France  Female   42   \n",
              "1          2    15647311      Hill          608     Spain  Female   41   \n",
              "2          3    15619304      Onio          502    France  Female   42   \n",
              "3          4    15701354      Boni          699    France  Female   39   \n",
              "4          5    15737888  Mitchell          850     Spain  Female   43   \n",
              "\n",
              "   Tenure    Balance  NumOfProducts  HasCrCard  IsActiveMember  \\\n",
              "0       2       0.00              1          1               1   \n",
              "1       1   83807.86              1          0               1   \n",
              "2       8  159660.80              3          1               0   \n",
              "3       1       0.00              2          0               0   \n",
              "4       2  125510.82              1          1               1   \n",
              "\n",
              "   EstimatedSalary  Exited  \n",
              "0        101348.88       1  \n",
              "1        112542.58       0  \n",
              "2        113931.57       1  \n",
              "3         93826.63       0  \n",
              "4         79084.10       0  "
            ],
            "text/html": [
              "\n",
              "  <div id=\"df-bee95979-4e14-4e35-b8b1-bcd6f878524e\">\n",
              "    <div class=\"colab-df-container\">\n",
              "      <div>\n",
              "<style scoped>\n",
              "    .dataframe tbody tr th:only-of-type {\n",
              "        vertical-align: middle;\n",
              "    }\n",
              "\n",
              "    .dataframe tbody tr th {\n",
              "        vertical-align: top;\n",
              "    }\n",
              "\n",
              "    .dataframe thead th {\n",
              "        text-align: right;\n",
              "    }\n",
              "</style>\n",
              "<table border=\"1\" class=\"dataframe\">\n",
              "  <thead>\n",
              "    <tr style=\"text-align: right;\">\n",
              "      <th></th>\n",
              "      <th>RowNumber</th>\n",
              "      <th>CustomerId</th>\n",
              "      <th>Surname</th>\n",
              "      <th>CreditScore</th>\n",
              "      <th>Geography</th>\n",
              "      <th>Gender</th>\n",
              "      <th>Age</th>\n",
              "      <th>Tenure</th>\n",
              "      <th>Balance</th>\n",
              "      <th>NumOfProducts</th>\n",
              "      <th>HasCrCard</th>\n",
              "      <th>IsActiveMember</th>\n",
              "      <th>EstimatedSalary</th>\n",
              "      <th>Exited</th>\n",
              "    </tr>\n",
              "  </thead>\n",
              "  <tbody>\n",
              "    <tr>\n",
              "      <th>0</th>\n",
              "      <td>1</td>\n",
              "      <td>15634602</td>\n",
              "      <td>Hargrave</td>\n",
              "      <td>619</td>\n",
              "      <td>France</td>\n",
              "      <td>Female</td>\n",
              "      <td>42</td>\n",
              "      <td>2</td>\n",
              "      <td>0.00</td>\n",
              "      <td>1</td>\n",
              "      <td>1</td>\n",
              "      <td>1</td>\n",
              "      <td>101348.88</td>\n",
              "      <td>1</td>\n",
              "    </tr>\n",
              "    <tr>\n",
              "      <th>1</th>\n",
              "      <td>2</td>\n",
              "      <td>15647311</td>\n",
              "      <td>Hill</td>\n",
              "      <td>608</td>\n",
              "      <td>Spain</td>\n",
              "      <td>Female</td>\n",
              "      <td>41</td>\n",
              "      <td>1</td>\n",
              "      <td>83807.86</td>\n",
              "      <td>1</td>\n",
              "      <td>0</td>\n",
              "      <td>1</td>\n",
              "      <td>112542.58</td>\n",
              "      <td>0</td>\n",
              "    </tr>\n",
              "    <tr>\n",
              "      <th>2</th>\n",
              "      <td>3</td>\n",
              "      <td>15619304</td>\n",
              "      <td>Onio</td>\n",
              "      <td>502</td>\n",
              "      <td>France</td>\n",
              "      <td>Female</td>\n",
              "      <td>42</td>\n",
              "      <td>8</td>\n",
              "      <td>159660.80</td>\n",
              "      <td>3</td>\n",
              "      <td>1</td>\n",
              "      <td>0</td>\n",
              "      <td>113931.57</td>\n",
              "      <td>1</td>\n",
              "    </tr>\n",
              "    <tr>\n",
              "      <th>3</th>\n",
              "      <td>4</td>\n",
              "      <td>15701354</td>\n",
              "      <td>Boni</td>\n",
              "      <td>699</td>\n",
              "      <td>France</td>\n",
              "      <td>Female</td>\n",
              "      <td>39</td>\n",
              "      <td>1</td>\n",
              "      <td>0.00</td>\n",
              "      <td>2</td>\n",
              "      <td>0</td>\n",
              "      <td>0</td>\n",
              "      <td>93826.63</td>\n",
              "      <td>0</td>\n",
              "    </tr>\n",
              "    <tr>\n",
              "      <th>4</th>\n",
              "      <td>5</td>\n",
              "      <td>15737888</td>\n",
              "      <td>Mitchell</td>\n",
              "      <td>850</td>\n",
              "      <td>Spain</td>\n",
              "      <td>Female</td>\n",
              "      <td>43</td>\n",
              "      <td>2</td>\n",
              "      <td>125510.82</td>\n",
              "      <td>1</td>\n",
              "      <td>1</td>\n",
              "      <td>1</td>\n",
              "      <td>79084.10</td>\n",
              "      <td>0</td>\n",
              "    </tr>\n",
              "  </tbody>\n",
              "</table>\n",
              "</div>\n",
              "      <button class=\"colab-df-convert\" onclick=\"convertToInteractive('df-bee95979-4e14-4e35-b8b1-bcd6f878524e')\"\n",
              "              title=\"Convert this dataframe to an interactive table.\"\n",
              "              style=\"display:none;\">\n",
              "        \n",
              "  <svg xmlns=\"http://www.w3.org/2000/svg\" height=\"24px\"viewBox=\"0 0 24 24\"\n",
              "       width=\"24px\">\n",
              "    <path d=\"M0 0h24v24H0V0z\" fill=\"none\"/>\n",
              "    <path d=\"M18.56 5.44l.94 2.06.94-2.06 2.06-.94-2.06-.94-.94-2.06-.94 2.06-2.06.94zm-11 1L8.5 8.5l.94-2.06 2.06-.94-2.06-.94L8.5 2.5l-.94 2.06-2.06.94zm10 10l.94 2.06.94-2.06 2.06-.94-2.06-.94-.94-2.06-.94 2.06-2.06.94z\"/><path d=\"M17.41 7.96l-1.37-1.37c-.4-.4-.92-.59-1.43-.59-.52 0-1.04.2-1.43.59L10.3 9.45l-7.72 7.72c-.78.78-.78 2.05 0 2.83L4 21.41c.39.39.9.59 1.41.59.51 0 1.02-.2 1.41-.59l7.78-7.78 2.81-2.81c.8-.78.8-2.07 0-2.86zM5.41 20L4 18.59l7.72-7.72 1.47 1.35L5.41 20z\"/>\n",
              "  </svg>\n",
              "      </button>\n",
              "      \n",
              "  <style>\n",
              "    .colab-df-container {\n",
              "      display:flex;\n",
              "      flex-wrap:wrap;\n",
              "      gap: 12px;\n",
              "    }\n",
              "\n",
              "    .colab-df-convert {\n",
              "      background-color: #E8F0FE;\n",
              "      border: none;\n",
              "      border-radius: 50%;\n",
              "      cursor: pointer;\n",
              "      display: none;\n",
              "      fill: #1967D2;\n",
              "      height: 32px;\n",
              "      padding: 0 0 0 0;\n",
              "      width: 32px;\n",
              "    }\n",
              "\n",
              "    .colab-df-convert:hover {\n",
              "      background-color: #E2EBFA;\n",
              "      box-shadow: 0px 1px 2px rgba(60, 64, 67, 0.3), 0px 1px 3px 1px rgba(60, 64, 67, 0.15);\n",
              "      fill: #174EA6;\n",
              "    }\n",
              "\n",
              "    [theme=dark] .colab-df-convert {\n",
              "      background-color: #3B4455;\n",
              "      fill: #D2E3FC;\n",
              "    }\n",
              "\n",
              "    [theme=dark] .colab-df-convert:hover {\n",
              "      background-color: #434B5C;\n",
              "      box-shadow: 0px 1px 3px 1px rgba(0, 0, 0, 0.15);\n",
              "      filter: drop-shadow(0px 1px 2px rgba(0, 0, 0, 0.3));\n",
              "      fill: #FFFFFF;\n",
              "    }\n",
              "  </style>\n",
              "\n",
              "      <script>\n",
              "        const buttonEl =\n",
              "          document.querySelector('#df-bee95979-4e14-4e35-b8b1-bcd6f878524e button.colab-df-convert');\n",
              "        buttonEl.style.display =\n",
              "          google.colab.kernel.accessAllowed ? 'block' : 'none';\n",
              "\n",
              "        async function convertToInteractive(key) {\n",
              "          const element = document.querySelector('#df-bee95979-4e14-4e35-b8b1-bcd6f878524e');\n",
              "          const dataTable =\n",
              "            await google.colab.kernel.invokeFunction('convertToInteractive',\n",
              "                                                     [key], {});\n",
              "          if (!dataTable) return;\n",
              "\n",
              "          const docLinkHtml = 'Like what you see? Visit the ' +\n",
              "            '<a target=\"_blank\" href=https://colab.research.google.com/notebooks/data_table.ipynb>data table notebook</a>'\n",
              "            + ' to learn more about interactive tables.';\n",
              "          element.innerHTML = '';\n",
              "          dataTable['output_type'] = 'display_data';\n",
              "          await google.colab.output.renderOutput(dataTable, element);\n",
              "          const docLink = document.createElement('div');\n",
              "          docLink.innerHTML = docLinkHtml;\n",
              "          element.appendChild(docLink);\n",
              "        }\n",
              "      </script>\n",
              "    </div>\n",
              "  </div>\n",
              "  "
            ]
          },
          "metadata": {},
          "execution_count": 37
        }
      ]
    },
    {
      "cell_type": "code",
      "source": [
        "X = dataset.iloc[:, 3:13].values #what does .values do?\n",
        "X\n",
        "Y = dataset.iloc[:, 13].values\n",
        "Y"
      ],
      "metadata": {
        "colab": {
          "base_uri": "https://localhost:8080/"
        },
        "id": "4_5liKCiiwck",
        "outputId": "1abb7b89-202e-474f-d815-73a6ac8c8d69"
      },
      "execution_count": null,
      "outputs": [
        {
          "output_type": "execute_result",
          "data": {
            "text/plain": [
              "array([1, 0, 1, ..., 1, 1, 0])"
            ]
          },
          "metadata": {},
          "execution_count": 38
        }
      ]
    },
    {
      "cell_type": "code",
      "source": [
        "from sklearn.preprocessing import LabelEncoder, OneHotEncoder\n",
        "#labelEnc = male = 0, Female = 1, will put the labels\n",
        "labelencoder = LabelEncoder()\n",
        "X[:,2] = labelencoder.fit_transform(X[:,2])\n",
        "X[:,1] = labelencoder.fit_transform(X[:,1])\n",
        "print(X[:,2])"
      ],
      "metadata": {
        "colab": {
          "base_uri": "https://localhost:8080/"
        },
        "id": "B5A1X0vWi1US",
        "outputId": "16db0399-9739-4055-8de7-2b09b704d0e7"
      },
      "execution_count": null,
      "outputs": [
        {
          "output_type": "stream",
          "name": "stdout",
          "text": [
            "[0 0 0 ... 0 1 0]\n"
          ]
        }
      ]
    },
    {
      "cell_type": "code",
      "source": [
        "from sklearn.compose import ColumnTransformer\n",
        "ct  = ColumnTransformer([(\"Country,\", OneHotEncoder(), [1])], remainder = 'passthrough') #just touch the first column\n",
        "X = ct.fit_transform(X)\n",
        "X"
      ],
      "metadata": {
        "colab": {
          "base_uri": "https://localhost:8080/"
        },
        "id": "cOyVuoIDi36Z",
        "outputId": "9bbafbe8-48aa-4cd8-fcb8-3b358bfbc668"
      },
      "execution_count": null,
      "outputs": [
        {
          "output_type": "execute_result",
          "data": {
            "text/plain": [
              "array([[1.0, 0.0, 0.0, ..., 1, 1, 101348.88],\n",
              "       [0.0, 0.0, 1.0, ..., 0, 1, 112542.58],\n",
              "       [1.0, 0.0, 0.0, ..., 1, 0, 113931.57],\n",
              "       ...,\n",
              "       [1.0, 0.0, 0.0, ..., 0, 1, 42085.58],\n",
              "       [0.0, 1.0, 0.0, ..., 1, 0, 92888.52],\n",
              "       [1.0, 0.0, 0.0, ..., 1, 0, 38190.78]], dtype=object)"
            ]
          },
          "metadata": {},
          "execution_count": 40
        }
      ]
    },
    {
      "cell_type": "code",
      "source": [
        "#create pandas dataframe\n",
        "X = pd.DataFrame(X, columns=[\"X1\",\"X2\",\"X3\", \"Credit Score\", \"Gender\", \"Age\", \"Tenure\", \"Balance\", \"NumOfProducts\",\t\"HasCrCard\",\t\"IsActiveMember\",\t\"EstimatedSalary\"])"
      ],
      "metadata": {
        "id": "EH22Ghqsi7h2"
      },
      "execution_count": null,
      "outputs": []
    },
    {
      "cell_type": "code",
      "source": [
        "cluster_range = range(2,10)\n",
        "cluster_errors = []\n",
        "#we will have three things available\n",
        "#1. center\n",
        "#2. label\n",
        "#3. inertia\n",
        "for num_clusters in cluster_range:\n",
        "  clusters = KMeans(num_clusters, n_init = 2)\n",
        "  clusters.fit(X)\n",
        "  labels = clusters.labels_\n",
        "  centroids = clusters.cluster_centers_\n",
        "  cluster_errors.append( clusters.inertia_ )\n",
        "\n",
        "#combine the cluster_range and cluster_errors into a dataframe by combining them\n",
        "#creating a dict with the columns\n",
        "clusters_df = pd.DataFrame({\"num_clusters\": cluster_range, \"cluster_error\": cluster_errors})\n",
        "clusters_df\n",
        "\n",
        "#minimum the error the better the cluster is"
      ],
      "metadata": {
        "colab": {
          "base_uri": "https://localhost:8080/",
          "height": 300
        },
        "id": "PpRs_-mSjAqS",
        "outputId": "99e1f7ef-d9f1-4ef1-fe9c-40ae29a80876"
      },
      "execution_count": null,
      "outputs": [
        {
          "output_type": "execute_result",
          "data": {
            "text/plain": [
              "   num_clusters  cluster_error\n",
              "0             2   3.836253e+13\n",
              "1             3   2.281727e+13\n",
              "2             4   1.369056e+13\n",
              "3             5   1.084162e+13\n",
              "4             6   9.026425e+12\n",
              "5             7   7.796299e+12\n",
              "6             8   6.579043e+12\n",
              "7             9   5.980010e+12"
            ],
            "text/html": [
              "\n",
              "  <div id=\"df-99cef26c-2101-4668-9781-4b22b22d0ab5\">\n",
              "    <div class=\"colab-df-container\">\n",
              "      <div>\n",
              "<style scoped>\n",
              "    .dataframe tbody tr th:only-of-type {\n",
              "        vertical-align: middle;\n",
              "    }\n",
              "\n",
              "    .dataframe tbody tr th {\n",
              "        vertical-align: top;\n",
              "    }\n",
              "\n",
              "    .dataframe thead th {\n",
              "        text-align: right;\n",
              "    }\n",
              "</style>\n",
              "<table border=\"1\" class=\"dataframe\">\n",
              "  <thead>\n",
              "    <tr style=\"text-align: right;\">\n",
              "      <th></th>\n",
              "      <th>num_clusters</th>\n",
              "      <th>cluster_error</th>\n",
              "    </tr>\n",
              "  </thead>\n",
              "  <tbody>\n",
              "    <tr>\n",
              "      <th>0</th>\n",
              "      <td>2</td>\n",
              "      <td>3.836253e+13</td>\n",
              "    </tr>\n",
              "    <tr>\n",
              "      <th>1</th>\n",
              "      <td>3</td>\n",
              "      <td>2.281727e+13</td>\n",
              "    </tr>\n",
              "    <tr>\n",
              "      <th>2</th>\n",
              "      <td>4</td>\n",
              "      <td>1.369056e+13</td>\n",
              "    </tr>\n",
              "    <tr>\n",
              "      <th>3</th>\n",
              "      <td>5</td>\n",
              "      <td>1.084162e+13</td>\n",
              "    </tr>\n",
              "    <tr>\n",
              "      <th>4</th>\n",
              "      <td>6</td>\n",
              "      <td>9.026425e+12</td>\n",
              "    </tr>\n",
              "    <tr>\n",
              "      <th>5</th>\n",
              "      <td>7</td>\n",
              "      <td>7.796299e+12</td>\n",
              "    </tr>\n",
              "    <tr>\n",
              "      <th>6</th>\n",
              "      <td>8</td>\n",
              "      <td>6.579043e+12</td>\n",
              "    </tr>\n",
              "    <tr>\n",
              "      <th>7</th>\n",
              "      <td>9</td>\n",
              "      <td>5.980010e+12</td>\n",
              "    </tr>\n",
              "  </tbody>\n",
              "</table>\n",
              "</div>\n",
              "      <button class=\"colab-df-convert\" onclick=\"convertToInteractive('df-99cef26c-2101-4668-9781-4b22b22d0ab5')\"\n",
              "              title=\"Convert this dataframe to an interactive table.\"\n",
              "              style=\"display:none;\">\n",
              "        \n",
              "  <svg xmlns=\"http://www.w3.org/2000/svg\" height=\"24px\"viewBox=\"0 0 24 24\"\n",
              "       width=\"24px\">\n",
              "    <path d=\"M0 0h24v24H0V0z\" fill=\"none\"/>\n",
              "    <path d=\"M18.56 5.44l.94 2.06.94-2.06 2.06-.94-2.06-.94-.94-2.06-.94 2.06-2.06.94zm-11 1L8.5 8.5l.94-2.06 2.06-.94-2.06-.94L8.5 2.5l-.94 2.06-2.06.94zm10 10l.94 2.06.94-2.06 2.06-.94-2.06-.94-.94-2.06-.94 2.06-2.06.94z\"/><path d=\"M17.41 7.96l-1.37-1.37c-.4-.4-.92-.59-1.43-.59-.52 0-1.04.2-1.43.59L10.3 9.45l-7.72 7.72c-.78.78-.78 2.05 0 2.83L4 21.41c.39.39.9.59 1.41.59.51 0 1.02-.2 1.41-.59l7.78-7.78 2.81-2.81c.8-.78.8-2.07 0-2.86zM5.41 20L4 18.59l7.72-7.72 1.47 1.35L5.41 20z\"/>\n",
              "  </svg>\n",
              "      </button>\n",
              "      \n",
              "  <style>\n",
              "    .colab-df-container {\n",
              "      display:flex;\n",
              "      flex-wrap:wrap;\n",
              "      gap: 12px;\n",
              "    }\n",
              "\n",
              "    .colab-df-convert {\n",
              "      background-color: #E8F0FE;\n",
              "      border: none;\n",
              "      border-radius: 50%;\n",
              "      cursor: pointer;\n",
              "      display: none;\n",
              "      fill: #1967D2;\n",
              "      height: 32px;\n",
              "      padding: 0 0 0 0;\n",
              "      width: 32px;\n",
              "    }\n",
              "\n",
              "    .colab-df-convert:hover {\n",
              "      background-color: #E2EBFA;\n",
              "      box-shadow: 0px 1px 2px rgba(60, 64, 67, 0.3), 0px 1px 3px 1px rgba(60, 64, 67, 0.15);\n",
              "      fill: #174EA6;\n",
              "    }\n",
              "\n",
              "    [theme=dark] .colab-df-convert {\n",
              "      background-color: #3B4455;\n",
              "      fill: #D2E3FC;\n",
              "    }\n",
              "\n",
              "    [theme=dark] .colab-df-convert:hover {\n",
              "      background-color: #434B5C;\n",
              "      box-shadow: 0px 1px 3px 1px rgba(0, 0, 0, 0.15);\n",
              "      filter: drop-shadow(0px 1px 2px rgba(0, 0, 0, 0.3));\n",
              "      fill: #FFFFFF;\n",
              "    }\n",
              "  </style>\n",
              "\n",
              "      <script>\n",
              "        const buttonEl =\n",
              "          document.querySelector('#df-99cef26c-2101-4668-9781-4b22b22d0ab5 button.colab-df-convert');\n",
              "        buttonEl.style.display =\n",
              "          google.colab.kernel.accessAllowed ? 'block' : 'none';\n",
              "\n",
              "        async function convertToInteractive(key) {\n",
              "          const element = document.querySelector('#df-99cef26c-2101-4668-9781-4b22b22d0ab5');\n",
              "          const dataTable =\n",
              "            await google.colab.kernel.invokeFunction('convertToInteractive',\n",
              "                                                     [key], {});\n",
              "          if (!dataTable) return;\n",
              "\n",
              "          const docLinkHtml = 'Like what you see? Visit the ' +\n",
              "            '<a target=\"_blank\" href=https://colab.research.google.com/notebooks/data_table.ipynb>data table notebook</a>'\n",
              "            + ' to learn more about interactive tables.';\n",
              "          element.innerHTML = '';\n",
              "          dataTable['output_type'] = 'display_data';\n",
              "          await google.colab.output.renderOutput(dataTable, element);\n",
              "          const docLink = document.createElement('div');\n",
              "          docLink.innerHTML = docLinkHtml;\n",
              "          element.appendChild(docLink);\n",
              "        }\n",
              "      </script>\n",
              "    </div>\n",
              "  </div>\n",
              "  "
            ]
          },
          "metadata": {},
          "execution_count": 43
        }
      ]
    },
    {
      "cell_type": "code",
      "source": [
        "#Elbow plot\n",
        "plt.figure(figsize=(12,6))\n",
        "plt.plot(clusters_df.num_clusters, clusters_df.cluster_error, marker = 'o');"
      ],
      "metadata": {
        "colab": {
          "base_uri": "https://localhost:8080/",
          "height": 385
        },
        "id": "Xg95NGx7j9KP",
        "outputId": "86bfb711-f204-4182-d464-ece0a868d26e"
      },
      "execution_count": null,
      "outputs": [
        {
          "output_type": "display_data",
          "data": {
            "text/plain": [
              "<Figure size 864x432 with 1 Axes>"
            ],
            "image/png": "[encoded data removed]"
          },
          "metadata": {
            "needs_background": "light"
          }
        }
      ]
    },
    {
      "cell_type": "code",
      "source": [
        "cluster = KMeans(n_clusters = 6, random_state =1)\n",
        "#what does random_state do?\n",
        "#for same centroid\n",
        "cluster.fit(X)\n",
        "KMeans(n_clusters=6, random_state=1)"
      ],
      "metadata": {
        "colab": {
          "base_uri": "https://localhost:8080/"
        },
        "id": "01vtPZ44kFrS",
        "outputId": "c19af9cd-dddb-4dd6-983a-48d54aee4d76"
      },
      "execution_count": null,
      "outputs": [
        {
          "output_type": "execute_result",
          "data": {
            "text/plain": [
              "KMeans(n_clusters=6, random_state=1)"
            ]
          },
          "metadata": {},
          "execution_count": 45
        }
      ]
    },
    {
      "cell_type": "code",
      "source": [
        "centroids = cluster.cluster_centers_\n",
        "centroids"
      ],
      "metadata": {
        "colab": {
          "base_uri": "https://localhost:8080/"
        },
        "id": "CJN2M2ITkOZG",
        "outputId": "e819f357-2fd1-49d3-e8d1-f69d7645a16b"
      },
      "execution_count": null,
      "outputs": [
        {
          "output_type": "execute_result",
          "data": {
            "text/plain": [
              "array([[4.02884615e-01, 4.00480769e-01, 1.96634615e-01, 6.51723558e+02,\n",
              "        5.55769231e-01, 3.92144231e+01, 4.92355769e+00, 1.22062252e+05,\n",
              "        1.36730769e+00, 7.00480769e-01, 5.27884615e-01, 3.47414775e+04],\n",
              "       [4.00195695e-01, 3.99217221e-01, 2.00587084e-01, 6.51541096e+02,\n",
              "        5.45988258e-01, 3.90053816e+01, 5.02005871e+00, 1.22327362e+05,\n",
              "        1.40508806e+00, 6.90802348e-01, 5.03424658e-01, 1.67174199e+05],\n",
              "       [6.60601266e-01, 1.81962025e-02, 3.21202532e-01, 6.51831487e+02,\n",
              "        5.43512658e-01, 3.82246835e+01, 5.10601266e+00, 2.61830238e+03,\n",
              "        1.76503165e+00, 7.15981013e-01, 5.18196203e-01, 1.66069572e+05],\n",
              "       [6.59591837e-01, 1.38775510e-02, 3.26530612e-01, 6.52735510e+02,\n",
              "        5.50204082e-01, 3.86277551e+01, 5.06612245e+00, 2.20860891e+03,\n",
              "        1.76816327e+00, 7.37142857e-01, 5.17551020e-01, 3.15721309e+04],\n",
              "       [4.10576923e-01, 3.87019231e-01, 2.02403846e-01, 6.50242788e+02,\n",
              "        5.44230769e-01, 3.93538462e+01, 5.00384615e+00, 1.21166678e+05,\n",
              "        1.38317308e+00, 7.01442308e-01, 5.08653846e-01, 1.01063426e+05],\n",
              "       [6.58760520e-01, 1.14766641e-02, 3.29762816e-01, 6.44171385e+02,\n",
              "        5.29456771e-01, 3.85876052e+01, 5.01759755e+00, 2.21156064e+03,\n",
              "        1.76893650e+00, 7.03136955e-01, 5.17980107e-01, 9.80385129e+04]])"
            ]
          },
          "metadata": {},
          "execution_count": 46
        }
      ]
    },
    {
      "cell_type": "code",
      "source": [
        "centroid_df = pd.DataFrame(centroids, columns = list(X))"
      ],
      "metadata": {
        "id": "zvmnORCKpwat"
      },
      "execution_count": null,
      "outputs": []
    },
    {
      "cell_type": "code",
      "source": [
        "prediction = cluster.predict(X)\n",
        "#Is to predict in which cluster each wine will go\n",
        "#Once the cluster numbers are predicted, I want to insert a new column in my data set\n",
        "# Calle Groupp and here I will put the cluster number\n",
        "X[\"Group\"] = pd.DataFrame(prediction, columns= [\"Group\"])\n",
        "#Print the first 20 elements in the dataframe to verify if the cluster numbers appear under column Group\n",
        "print(X.head(5))\n",
        "# Count the number of wines in each Cluster\n",
        "print(X.groupby(\"Group\").count())\n",
        "#Based on the wine quality group the wines and see how many wines are in each Quality\n",
        "print(dataset.groupby(\"Exited\").count())"
      ],
      "metadata": {
        "colab": {
          "base_uri": "https://localhost:8080/"
        },
        "id": "8ZqMgf4Ppyrz",
        "outputId": "1597a030-67c9-4954-eab1-157239c27098"
      },
      "execution_count": null,
      "outputs": [
        {
          "output_type": "stream",
          "name": "stdout",
          "text": [
            "    X1   X2   X3 Credit Score Gender Age Tenure    Balance NumOfProducts  \\\n",
            "0  1.0  0.0  0.0          619      0  42      2        0.0             1   \n",
            "1  0.0  0.0  1.0          608      0  41      1   83807.86             1   \n",
            "2  1.0  0.0  0.0          502      0  42      8   159660.8             3   \n",
            "3  1.0  0.0  0.0          699      0  39      1        0.0             2   \n",
            "4  0.0  0.0  1.0          850      0  43      2  125510.82             1   \n",
            "\n",
            "  HasCrCard IsActiveMember EstimatedSalary  Group  \n",
            "0         1              1       101348.88      5  \n",
            "1         0              1       112542.58      4  \n",
            "2         1              0       113931.57      4  \n",
            "3         0              0        93826.63      5  \n",
            "4         1              1         79084.1      4  \n",
            "         X1    X2    X3  Credit Score  Gender   Age  Tenure  Balance  \\\n",
            "Group                                                                  \n",
            "0      2079  2079  2079          2079    2079  2079    2079     2079   \n",
            "1      2048  2048  2048          2048    2048  2048    2048     2048   \n",
            "2      1264  1264  1264          1264    1264  1264    1264     1264   \n",
            "3      1227  1227  1227          1227    1227  1227    1227     1227   \n",
            "4      2077  2077  2077          2077    2077  2077    2077     2077   \n",
            "5      1305  1305  1305          1305    1305  1305    1305     1305   \n",
            "\n",
            "       NumOfProducts  HasCrCard  IsActiveMember  EstimatedSalary  \n",
            "Group                                                             \n",
            "0               2079       2079            2079             2079  \n",
            "1               2048       2048            2048             2048  \n",
            "2               1264       1264            1264             1264  \n",
            "3               1227       1227            1227             1227  \n",
            "4               2077       2077            2077             2077  \n",
            "5               1305       1305            1305             1305  \n",
            "        RowNumber  CustomerId  Surname  CreditScore  Geography  Gender   Age  \\\n",
            "Exited                                                                         \n",
            "0            7963        7963     7963         7963       7963    7963  7963   \n",
            "1            2037        2037     2037         2037       2037    2037  2037   \n",
            "\n",
            "        Tenure  Balance  NumOfProducts  HasCrCard  IsActiveMember  \\\n",
            "Exited                                                              \n",
            "0         7963     7963           7963       7963            7963   \n",
            "1         2037     2037           2037       2037            2037   \n",
            "\n",
            "        EstimatedSalary  \n",
            "Exited                   \n",
            "0                  7963  \n",
            "1                  2037  \n"
          ]
        }
      ]
    }
  ]
}