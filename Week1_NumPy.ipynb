{
  "cells": [
    {
      "cell_type": "markdown",
      "metadata": {
        "id": "hHBKgRjo5sHB"
      },
      "source": [
        "Q1: Fibonacci Series\n",
        "<br> The formula is F(n) = F(n-1)+F(n-2), where F(1) = 1 and F(0) = 0\n",
        "\n",
        "\n",
        "---\n",
        "\n"
      ]
    },
    {
      "cell_type": "code",
      "execution_count": null,
      "metadata": {
        "colab": {
          "base_uri": "https://localhost:8080/"
        },
        "id": "67TTFaxQ4f2e",
        "outputId": "7f85afee-fa35-48bb-ea29-ce01105fd1ef"
      },
      "outputs": [
        {
          "output_type": "stream",
          "name": "stdout",
          "text": [
            "Enter the number of series that you want: 4\n",
            "1\n",
            "1\n",
            "2\n",
            "3\n"
          ]
        }
      ],
      "source": [
        "def fib_series(n):\n",
        "  if (n<=1):\n",
        "    return n\n",
        "  else:\n",
        "    return fib_series(n-1) + fib_series(n-2)  # Recursive case\n",
        "n = int(input(\"Enter the number of series that you want: \"))\n",
        "for i in range (1,n+1): #since the fibonacci series starts from 1 and the range take the endpoint as n-1, hence the range is from 1 to n+1\n",
        "  print(fib_series(i))"
      ]
    },
    {
      "cell_type": "markdown",
      "metadata": {
        "id": "kReGpBraBYPy"
      },
      "source": [
        "Q2: Mapping keys to the lists\n",
        "\n"
      ]
    },
    {
      "cell_type": "code",
      "execution_count": null,
      "metadata": {
        "colab": {
          "base_uri": "https://localhost:8080/"
        },
        "id": "PAuHMBqWBfUc",
        "outputId": "0663fcec-8d8f-4a61-a2dc-6a41e669acb2"
      },
      "outputs": [
        {
          "name": "stdout",
          "output_type": "stream",
          "text": [
            "{'B': [1, 2, 3], 'A': ['Hi', 'How are you']}\n"
          ]
        }
      ],
      "source": [
        "A = [1,2,3]\n",
        "B = ['Hi', 'How are you']\n",
        "dict = {\"B\": A, \"A\":B}\n",
        "print(dict)"
      ]
    },
    {
      "cell_type": "markdown",
      "metadata": {
        "id": "QNuWSPFZteou"
      },
      "source": [
        "Q3: Find the evens and the odds"
      ]
    },
    {
      "cell_type": "code",
      "execution_count": null,
      "metadata": {
        "colab": {
          "base_uri": "https://localhost:8080/"
        },
        "id": "bMoVWERnvFXy",
        "outputId": "07b10a57-4142-4cc5-f5a7-e918085b821b"
      },
      "outputs": [
        {
          "name": "stdout",
          "output_type": "stream",
          "text": [
            "Checked the first 5 numbers for even numbers. The even numbers are [0, 2, 4]\n",
            "Checked the last 5 numbers for odd numbers. The odd number are [5, 7, 9]\n"
          ]
        }
      ],
      "source": [
        "import numpy as np\n",
        "import math\n",
        "array = np.arange(0,11)\n",
        "n = math.floor(len(array))\n",
        "even, odd = [], []\n",
        "for i in array:\n",
        "  if (i<math.floor(n/2) and i%2 == 0):\n",
        "    even.append(i)\n",
        "  if (i>=math.floor(n/2) and i%2 == 1):\n",
        "    odd.append(i)\n",
        "print(\"Checked the first 5 numbers for even numbers. The even numbers are\", even)\n",
        "print(\"Checked the last 5 numbers for odd numbers. The odd number are\", odd)"
      ]
    },
    {
      "cell_type": "markdown",
      "metadata": {
        "id": "9JGd2L0R0d08"
      },
      "source": [
        "Q4: Input the following string\n",
        "<br>Test = “Python is found in Africa”\n",
        "<br>Output the following string\n",
        "<br>“Acirfa is dnuof in nohTYP”"
      ]
    },
    {
      "cell_type": "code",
      "execution_count": null,
      "metadata": {
        "colab": {
          "base_uri": "https://localhost:8080/"
        },
        "id": "UNwkYjtz1WP0",
        "outputId": "d669d913-932d-4949-d3f4-1d034415917d"
      },
      "outputs": [
        {
          "name": "stdout",
          "output_type": "stream",
          "text": [
            "25\n",
            "Acirfa is dnuof in nohTYP\n"
          ]
        }
      ],
      "source": [
        "Test = \"Python is found in Africa\"\n",
        "txt = \"Python is found in Africa\"[::-1]\n",
        "print(txt[0].upper() + txt[1:5] + txt[5:7].lower() + Test[7:9] + txt[9:16] + Test[16:19] + txt[19:22] + txt[22:25].upper())"
      ]
    },
    {
      "cell_type": "markdown",
      "metadata": {
        "id": "gHoUav1y7yTR"
      },
      "source": [
        "Q5:T = “Racecar”. Check if this is a palindrome (check the definition from the net). Your output should say “Racecar is a palindrome”"
      ]
    },
    {
      "cell_type": "code",
      "execution_count": null,
      "metadata": {
        "colab": {
          "base_uri": "https://localhost:8080/"
        },
        "id": "RvZbBXiq79p1",
        "outputId": "e4ad8d38-d689-4b59-c657-4679291c1fc7"
      },
      "outputs": [
        {
          "name": "stdout",
          "output_type": "stream",
          "text": [
            "Racecar is a palindrome\n"
          ]
        }
      ],
      "source": [
        "T = \"Racecar\"\n",
        "n = len(T)\n",
        "String = T.lower()\n",
        "reversed_str = ''\n",
        "for i in range (0,n):\n",
        "  reversed_str += String[n-1-i]\n",
        "#print(reversed_str)\n",
        "if reversed_str == String:\n",
        "  print(\"{} is a palindrome\".format(T))\n",
        "else:\n",
        "  print(\"{} is not a palindrome\".format(T))"
      ]
    },
    {
      "cell_type": "markdown",
      "metadata": {
        "id": "VdQYcvHJDHA3"
      },
      "source": [
        "Q6: Generate the output of the following equation y = x/2 + 1. The values of X can be obtained from the dictionary {‘x’: “1 2 3 4 5”}"
      ]
    },
    {
      "cell_type": "code",
      "execution_count": null,
      "metadata": {
        "colab": {
          "base_uri": "https://localhost:8080/"
        },
        "id": "OfxEnAcADNEC",
        "outputId": "d121285c-4042-4087-de98-346eb3d731d0"
      },
      "outputs": [
        {
          "name": "stdout",
          "output_type": "stream",
          "text": [
            "1.5\n",
            "2.0\n",
            "2.5\n",
            "3.0\n",
            "3.5\n"
          ]
        }
      ],
      "source": [
        "dict = {'x': '1 2 3 4 5'}\n",
        "string = dict[\"x\"][0::2]\n",
        "y = 0\n",
        "for i in range(0,len(string)):\n",
        "  a = int(string[i])\n",
        "  y = a/2+1\n",
        "  print(y)\n"
      ]
    },
    {
      "cell_type": "markdown",
      "metadata": {
        "id": "aSq0UA-LUiyL"
      },
      "source": [
        "Q7: The initial string given to you was “Python is just getting started”. The new string needed from you is “Python for Marketing and Sales is just getting started”."
      ]
    },
    {
      "cell_type": "code",
      "execution_count": null,
      "metadata": {
        "colab": {
          "base_uri": "https://localhost:8080/"
        },
        "id": "--nyG6iQUghG",
        "outputId": "298f73f8-4501-4067-f15c-a85bb19a262f"
      },
      "outputs": [
        {
          "name": "stdout",
          "output_type": "stream",
          "text": [
            "Python for Marketing and Sales is just getting started\n"
          ]
        }
      ],
      "source": [
        "Initial_string = \"Python is just getting started\"\n",
        "middle_string = \"for Marketing and Sales \"\n",
        "new_string = Initial_string[:7] + middle_string + Initial_string[7:]\n",
        "print(new_string)"
      ]
    },
    {
      "cell_type": "markdown",
      "metadata": {
        "id": "4R7G3AhsWH6Q"
      },
      "source": [
        "The following tupple was provided t = (22, 7, 11). You want to insert a new element 20 in the tupple. The new tupple should be (22,7,11,20)."
      ]
    },
    {
      "cell_type": "code",
      "execution_count": null,
      "metadata": {
        "colab": {
          "base_uri": "https://localhost:8080/"
        },
        "id": "xTuv-f2NWOzS",
        "outputId": "8f7a2a78-418b-4b50-96c9-62a5a3fb0eab"
      },
      "outputs": [
        {
          "data": {
            "text/plain": [
              "(22, 7, 11, 20)"
            ]
          },
          "execution_count": 57,
          "metadata": {},
          "output_type": "execute_result"
        }
      ],
      "source": [
        "t = (22, 7, 11)\n",
        "t = t + (20,)"
      ]
    },
    {
      "cell_type": "markdown",
      "metadata": {
        "id": "xhp1yLC3X3xR"
      },
      "source": [
        "Q9: This is the input X = {“Key1”: “Hello”, “Key2”: “How are you”}. Using this create an output which is “Hello How are you”."
      ]
    },
    {
      "cell_type": "code",
      "execution_count": null,
      "metadata": {
        "colab": {
          "base_uri": "https://localhost:8080/"
        },
        "id": "0ZEKBoHRYAOk",
        "outputId": "f53e5bfe-75c4-44de-8a97-b6d3b9225a78"
      },
      "outputs": [
        {
          "name": "stdout",
          "output_type": "stream",
          "text": [
            "Hello How are you\n"
          ]
        }
      ],
      "source": [
        "X = {'Key1': 'Hello', 'Key2': 'How are you'}\n",
        "string1 = X['Key1']\n",
        "string2 = X['Key2']\n",
        "print(string1 + ' ' + string2)"
      ]
    },
    {
      "cell_type": "markdown",
      "metadata": {
        "id": "CTLfcV9dZE__"
      },
      "source": [
        "Create your own problem and solve it (creativity will be awarded)."
      ]
    },
    {
      "cell_type": "code",
      "execution_count": null,
      "metadata": {
        "id": "ce2kQEGDZMlE",
        "colab": {
          "base_uri": "https://localhost:8080/"
        },
        "outputId": "fd67c3d5-b6ed-4601-f3aa-5538bc258b54"
      },
      "outputs": [
        {
          "output_type": "stream",
          "name": "stdout",
          "text": [
            "Enter the length of the array: 5\n",
            "unsorted array [1 1 1 1 0]\n",
            "sorted array   [0 1 1 1 1]\n"
          ]
        }
      ],
      "source": [
        "#Given an array A[0..n-1] of n0 0s, n1 1s and n2 2s in random order such that 0 ≤ n0, n1, n2 ≤ n and n0 + n1 + n2 = n.\n",
        "#write an algorithm where you use only the swap function to sort the array, to make it more challenging \n",
        "#do it in linear time (using only one loop).\n",
        "import numpy\n",
        "def sort_using_swap(array,n):\n",
        "  a,b,c = 0,0,n-1\n",
        "  while(b <= c):\n",
        "    if(array[b] == 0):\n",
        "      array[a],array[b] = array[b],array[a]\n",
        "      a = a+1\n",
        "      b = b+1\n",
        "    elif (array[b] == 1):\n",
        "      b = b+1\n",
        "    else:\n",
        "      array[b],array[c] = array[c],array[b]\n",
        "      c = c-1\n",
        "  print(\"sorted array  \",array)\n",
        "\n",
        "n = int(input(\"Enter the length of the array: \"))\n",
        "array = numpy.random.randint(0,3,n)\n",
        "print(\"unsorted array\",array)\n",
        "sort_using_swap(array,n)\n"
      ]
    }
  ],
  "metadata": {
    "colab": {
      "provenance": []
    },
    "kernelspec": {
      "display_name": "Python 3",
      "name": "python3"
    },
    "language_info": {
      "name": "python"
    }
  },
  "nbformat": 4,
  "nbformat_minor": 0
}