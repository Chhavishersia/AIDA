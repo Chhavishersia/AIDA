{
  "nbformat": 4,
  "nbformat_minor": 0,
  "metadata": {
    "colab": {
      "provenance": []
    },
    "kernelspec": {
      "name": "python3",
      "display_name": "Python 3"
    },
    "language_info": {
      "name": "python"
    }
  },
  "cells": [
    {
      "cell_type": "code",
      "execution_count": null,
      "metadata": {
        "id": "SeM_UFO4VMaQ"
      },
      "outputs": [],
      "source": [
        "#Libraries \n",
        "import numpy as np\n",
        "import matplotlib.pyplot as plt\n",
        "import pandas as pd\n",
        "from sklearn.tree import DecisionTreeClassifier\n",
        "from sklearn.model_selection import train_test_split\n",
        "from sklearn import metrics\n",
        "from sklearn.decomposition import PCA\n",
        "from sklearn.preprocessing import StandardScaler\n",
        "from scipy.stats import zscore"
      ]
    },
    {
      "cell_type": "code",
      "source": [
        "#Read the data\n",
        "df = pd.read_excel(\"AIDA_Week10_HW_PCA_Data.xlsx\")\n",
        "df = df.iloc[:,1:3]\n",
        "print(df.head())"
      ],
      "metadata": {
        "colab": {
          "base_uri": "https://localhost:8080/"
        },
        "id": "TsPgfbiAXwgy",
        "outputId": "ea72587c-f638-4d86-d0ec-dd2f7a6d33c7"
      },
      "execution_count": null,
      "outputs": [
        {
          "output_type": "stream",
          "name": "stdout",
          "text": [
            "    x1   x2\n",
            "0  3.5  1.9\n",
            "1  1.5  0.2\n",
            "2  3.2  2.4\n",
            "3  2.9  1.7\n",
            "4  4.1  2.5\n",
            "Cov Mat \n",
            "%s [[1.28  1.04  0.64  0.96  1.28  0.88  1.52  1.12  1.12  1.36 ]\n",
            " [1.04  0.845 0.52  0.78  1.04  0.715 1.235 0.91  0.91  1.105]\n",
            " [0.64  0.52  0.32  0.48  0.64  0.44  0.76  0.56  0.56  0.68 ]\n",
            " [0.96  0.78  0.48  0.72  0.96  0.66  1.14  0.84  0.84  1.02 ]\n",
            " [1.28  1.04  0.64  0.96  1.28  0.88  1.52  1.12  1.12  1.36 ]\n",
            " [0.88  0.715 0.44  0.66  0.88  0.605 1.045 0.77  0.77  0.935]\n",
            " [1.52  1.235 0.76  1.14  1.52  1.045 1.805 1.33  1.33  1.615]\n",
            " [1.12  0.91  0.56  0.84  1.12  0.77  1.33  0.98  0.98  1.19 ]\n",
            " [1.12  0.91  0.56  0.84  1.12  0.77  1.33  0.98  0.98  1.19 ]\n",
            " [1.36  1.105 0.68  1.02  1.36  0.935 1.615 1.19  1.19  1.445]]\n"
          ]
        }
      ]
    },
    {
      "cell_type": "code",
      "source": [
        "import statistics\n",
        "#calculate the center of the data\n",
        "avg_x1 = statistics.mean(df.x1)\n",
        "avg_x2 = statistics.mean(df.x2)\n",
        "print(avg_x1,avg_x2)"
      ],
      "metadata": {
        "colab": {
          "base_uri": "https://localhost:8080/"
        },
        "id": "4hF2yTimZtXQ",
        "outputId": "7f94c7e9-41b6-48c4-fc0e-608eb63feea9"
      },
      "execution_count": null,
      "outputs": [
        {
          "output_type": "stream",
          "name": "stdout",
          "text": [
            "2.81 1.4100000000000001\n"
          ]
        }
      ]
    },
    {
      "cell_type": "code",
      "source": [
        "#this cordinate will be the new center of the graph\n",
        "#we need to shift the data points accordingly\n",
        "#1. centre the data\n",
        "new_x1, new_x2 = df.x1-avg_x1, df.x2-avg_x2\n",
        "plt.scatter(new_x1, new_x2)\n",
        "plt.show()"
      ],
      "metadata": {
        "colab": {
          "base_uri": "https://localhost:8080/",
          "height": 265
        },
        "id": "xjjNnCQ1Z4sN",
        "outputId": "54bbf71a-f860-4c3d-f9ad-7d0f902304b0"
      },
      "execution_count": null,
      "outputs": [
        {
          "output_type": "display_data",
          "data": {
            "text/plain": [
              "<Figure size 432x288 with 1 Axes>"
            ],
            "image/png": "[encoded data removed]"
          },
          "metadata": {
            "needs_background": "light"
          }
        }
      ]
    },
    {
      "cell_type": "code",
      "source": [
        "#but before that let's create a new data set with these two new rows\n",
        "df.x1 = new_x1\n",
        "df.x2 = new_x2"
      ],
      "metadata": {
        "id": "x-7QlgGyaBV_"
      },
      "execution_count": null,
      "outputs": []
    },
    {
      "cell_type": "code",
      "source": [
        "#the slope ofthe pc tells the ratio between the features, (fetures are the input parameters), \n",
        "#tell you which features\n",
        "#are more imp, in other words, PC1 is the linear combination of the features\n",
        "#2. Calculate the Covariance Matrix\n",
        "# calculating the covariance matrix of the mean-centered data.\n",
        "cov_mat = np.cov(df , rowvar = False)\n",
        "print(cov_mat)"
      ],
      "metadata": {
        "colab": {
          "base_uri": "https://localhost:8080/"
        },
        "id": "p6DTr6KaaLGS",
        "outputId": "d47dc6b1-7a58-4d45-b52a-9adc9e76b1fd"
      },
      "execution_count": null,
      "outputs": [
        {
          "output_type": "stream",
          "name": "stdout",
          "text": [
            "[[0.61655556 0.61544444]\n",
            " [0.61544444 0.71655556]]\n"
          ]
        }
      ]
    },
    {
      "cell_type": "code",
      "source": [
        "#Calculating Eigenvalues and Eigenvectors of the covariance matrix\n",
        "eig_vals , eig_vec = np.linalg.eigh(cov_mat)\n",
        "print(eig_vals ,\"\\n\", eig_vec)"
      ],
      "metadata": {
        "colab": {
          "base_uri": "https://localhost:8080/"
        },
        "id": "bFQG0cdraUyC",
        "outputId": "514b0ecf-a146-4613-bb63-3063fb8a2790"
      },
      "execution_count": null,
      "outputs": [
        {
          "output_type": "stream",
          "name": "stdout",
          "text": [
            "[0.0490834  1.28402771] \n",
            " [[-0.73517866  0.6778734 ]\n",
            " [ 0.6778734   0.73517866]]\n"
          ]
        }
      ]
    },
    {
      "cell_type": "code",
      "source": [
        "#4. Sort Eigenvalues in descending order\n",
        "sorted_index = np.argsort(eig_vals)[::-1]\n",
        "#print(sorted_index)\n",
        "sorted_eig_val = eig_vals[sorted_index]\n",
        "#print(sorted_eigenvalue)\n",
        "#similarly sort the eigenvectors \n",
        "sorted_eig_vec = eig_vec[:,sorted_index]"
      ],
      "metadata": {
        "id": "McMXLMvbahYB"
      },
      "execution_count": null,
      "outputs": []
    },
    {
      "cell_type": "code",
      "source": [
        "#choose the number of eigenvectors you think are enough\n",
        "eig_vec_subset = sorted_eig_vec[:,0:2]\n",
        "print(eig_vec_subset)"
      ],
      "metadata": {
        "colab": {
          "base_uri": "https://localhost:8080/"
        },
        "id": "U8NO-0_8c3ij",
        "outputId": "8b507a2f-2338-49b5-e8fe-355cdb987e36"
      },
      "execution_count": null,
      "outputs": [
        {
          "output_type": "stream",
          "name": "stdout",
          "text": [
            "[[ 0.6778734  -0.73517866]\n",
            " [ 0.73517866  0.6778734 ]]\n"
          ]
        }
      ]
    },
    {
      "cell_type": "code",
      "source": [
        "#transform the data: dot product between the (eigenvector)T and (mean-centred dataset)T\n",
        "dim_reduction = np.dot(eig_vec_subset.transpose(), df.transpose()).transpose()\n",
        "print(dim_reduction)\n",
        "#the first column refers to PC1 and Second column refers to PC2"
      ],
      "metadata": {
        "colab": {
          "base_uri": "https://localhost:8080/"
        },
        "id": "_IXRWV_adJ99",
        "outputId": "9a56ff14-32a0-4599-c3ba-61423a4f7276"
      },
      "execution_count": null,
      "outputs": [
        {
          "output_type": "stream",
          "name": "stdout",
          "text": [
            "[[ 0.82797019 -0.17511531]\n",
            " [-1.77758033  0.14285723]\n",
            " [ 0.99219749  0.38437499]\n",
            " [ 0.27421042  0.13041721]\n",
            " [ 1.67580142 -0.20949846]\n",
            " [ 0.9129491   0.17528244]\n",
            " [-0.09910944 -0.3498247 ]\n",
            " [-1.14457216  0.04641726]\n",
            " [-0.43804614  0.01776463]\n",
            " [-1.22382056 -0.16267529]]\n"
          ]
        }
      ]
    },
    {
      "cell_type": "markdown",
      "source": [
        "Resource used: \n",
        "https://www.askpython.com/python/examples/principal-component-analysis\n"
      ],
      "metadata": {
        "id": "9oMa3P_8djqG"
      }
    }
  ]
}